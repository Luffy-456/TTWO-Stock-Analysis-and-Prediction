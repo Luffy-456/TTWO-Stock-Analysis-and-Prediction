{
 "cells": [
  {
   "cell_type": "code",
   "execution_count": 2,
   "metadata": {
    "colab": {
     "base_uri": "https://localhost:8080/",
     "height": 423
    },
    "id": "B5rtgO68Cell",
    "outputId": "e5bd8ce1-0580-4a09-8b65-fd700fac5771"
   },
   "outputs": [
    {
     "data": {
      "text/html": [
       "<div>\n",
       "<style scoped>\n",
       "    .dataframe tbody tr th:only-of-type {\n",
       "        vertical-align: middle;\n",
       "    }\n",
       "\n",
       "    .dataframe tbody tr th {\n",
       "        vertical-align: top;\n",
       "    }\n",
       "\n",
       "    .dataframe thead th {\n",
       "        text-align: right;\n",
       "    }\n",
       "</style>\n",
       "<table border=\"1\" class=\"dataframe\">\n",
       "  <thead>\n",
       "    <tr style=\"text-align: right;\">\n",
       "      <th></th>\n",
       "      <th>Date</th>\n",
       "      <th>Open</th>\n",
       "      <th>High</th>\n",
       "      <th>Low</th>\n",
       "      <th>Close</th>\n",
       "      <th>Adj Close</th>\n",
       "      <th>Volume</th>\n",
       "    </tr>\n",
       "  </thead>\n",
       "  <tbody>\n",
       "    <tr>\n",
       "      <th>0</th>\n",
       "      <td>15-04-97</td>\n",
       "      <td>3.666667</td>\n",
       "      <td>3.916667</td>\n",
       "      <td>3.416667</td>\n",
       "      <td>3.916667</td>\n",
       "      <td>3.916425</td>\n",
       "      <td>1785600</td>\n",
       "    </tr>\n",
       "    <tr>\n",
       "      <th>1</th>\n",
       "      <td>16-04-97</td>\n",
       "      <td>3.916667</td>\n",
       "      <td>4.166667</td>\n",
       "      <td>3.583333</td>\n",
       "      <td>3.708333</td>\n",
       "      <td>3.708104</td>\n",
       "      <td>443700</td>\n",
       "    </tr>\n",
       "    <tr>\n",
       "      <th>2</th>\n",
       "      <td>17-04-97</td>\n",
       "      <td>3.750000</td>\n",
       "      <td>4.083333</td>\n",
       "      <td>3.750000</td>\n",
       "      <td>3.833333</td>\n",
       "      <td>3.833096</td>\n",
       "      <td>252150</td>\n",
       "    </tr>\n",
       "    <tr>\n",
       "      <th>3</th>\n",
       "      <td>18-04-97</td>\n",
       "      <td>3.833333</td>\n",
       "      <td>4.000000</td>\n",
       "      <td>3.833333</td>\n",
       "      <td>4.000000</td>\n",
       "      <td>3.999753</td>\n",
       "      <td>165900</td>\n",
       "    </tr>\n",
       "    <tr>\n",
       "      <th>4</th>\n",
       "      <td>21-04-97</td>\n",
       "      <td>3.916667</td>\n",
       "      <td>4.000000</td>\n",
       "      <td>3.916667</td>\n",
       "      <td>4.000000</td>\n",
       "      <td>3.999753</td>\n",
       "      <td>77400</td>\n",
       "    </tr>\n",
       "    <tr>\n",
       "      <th>...</th>\n",
       "      <td>...</td>\n",
       "      <td>...</td>\n",
       "      <td>...</td>\n",
       "      <td>...</td>\n",
       "      <td>...</td>\n",
       "      <td>...</td>\n",
       "      <td>...</td>\n",
       "    </tr>\n",
       "    <tr>\n",
       "      <th>2993</th>\n",
       "      <td>09-03-09</td>\n",
       "      <td>6.150000</td>\n",
       "      <td>6.270000</td>\n",
       "      <td>5.870000</td>\n",
       "      <td>6.010000</td>\n",
       "      <td>6.010000</td>\n",
       "      <td>1190100</td>\n",
       "    </tr>\n",
       "    <tr>\n",
       "      <th>2994</th>\n",
       "      <td>10-03-09</td>\n",
       "      <td>6.170000</td>\n",
       "      <td>6.870000</td>\n",
       "      <td>5.900000</td>\n",
       "      <td>6.850000</td>\n",
       "      <td>6.850000</td>\n",
       "      <td>1553900</td>\n",
       "    </tr>\n",
       "    <tr>\n",
       "      <th>2995</th>\n",
       "      <td>11-03-09</td>\n",
       "      <td>6.420000</td>\n",
       "      <td>6.670000</td>\n",
       "      <td>6.050000</td>\n",
       "      <td>6.410000</td>\n",
       "      <td>6.410000</td>\n",
       "      <td>2116100</td>\n",
       "    </tr>\n",
       "    <tr>\n",
       "      <th>2996</th>\n",
       "      <td>12-03-09</td>\n",
       "      <td>6.400000</td>\n",
       "      <td>7.350000</td>\n",
       "      <td>6.310000</td>\n",
       "      <td>7.100000</td>\n",
       "      <td>7.100000</td>\n",
       "      <td>2152400</td>\n",
       "    </tr>\n",
       "    <tr>\n",
       "      <th>2997</th>\n",
       "      <td>13-03-09</td>\n",
       "      <td>7.130000</td>\n",
       "      <td>7.430000</td>\n",
       "      <td>6.920000</td>\n",
       "      <td>7.360000</td>\n",
       "      <td>7.360000</td>\n",
       "      <td>868100</td>\n",
       "    </tr>\n",
       "  </tbody>\n",
       "</table>\n",
       "<p>2998 rows × 7 columns</p>\n",
       "</div>"
      ],
      "text/plain": [
       "          Date      Open      High       Low     Close  Adj Close   Volume\n",
       "0     15-04-97  3.666667  3.916667  3.416667  3.916667   3.916425  1785600\n",
       "1     16-04-97  3.916667  4.166667  3.583333  3.708333   3.708104   443700\n",
       "2     17-04-97  3.750000  4.083333  3.750000  3.833333   3.833096   252150\n",
       "3     18-04-97  3.833333  4.000000  3.833333  4.000000   3.999753   165900\n",
       "4     21-04-97  3.916667  4.000000  3.916667  4.000000   3.999753    77400\n",
       "...        ...       ...       ...       ...       ...        ...      ...\n",
       "2993  09-03-09  6.150000  6.270000  5.870000  6.010000   6.010000  1190100\n",
       "2994  10-03-09  6.170000  6.870000  5.900000  6.850000   6.850000  1553900\n",
       "2995  11-03-09  6.420000  6.670000  6.050000  6.410000   6.410000  2116100\n",
       "2996  12-03-09  6.400000  7.350000  6.310000  7.100000   7.100000  2152400\n",
       "2997  13-03-09  7.130000  7.430000  6.920000  7.360000   7.360000   868100\n",
       "\n",
       "[2998 rows x 7 columns]"
      ]
     },
     "execution_count": 2,
     "metadata": {},
     "output_type": "execute_result"
    }
   ],
   "source": [
    "import pandas as pd\n",
    "df = pd.read_csv('D:\\\\CODE\\\\proj\\\\ttwo\\\\datashet_ttwo.csv')\n",
    "df"
   ]
  },
  {
   "cell_type": "markdown",
   "metadata": {
    "id": "N4MAjcmaCelm"
   },
   "source": [
    "## INFO GATHERING"
   ]
  },
  {
   "cell_type": "code",
   "execution_count": 3,
   "metadata": {
    "colab": {
     "base_uri": "https://localhost:8080/"
    },
    "id": "XiN_fIbYCeln",
    "outputId": "fe51b592-e7b8-446a-b69a-1367726cf470"
   },
   "outputs": [
    {
     "name": "stdout",
     "output_type": "stream",
     "text": [
      "<class 'pandas.core.frame.DataFrame'>\n",
      "RangeIndex: 2998 entries, 0 to 2997\n",
      "Data columns (total 7 columns):\n",
      " #   Column     Non-Null Count  Dtype  \n",
      "---  ------     --------------  -----  \n",
      " 0   Date       2998 non-null   object \n",
      " 1   Open       2998 non-null   float64\n",
      " 2   High       2998 non-null   float64\n",
      " 3   Low        2998 non-null   float64\n",
      " 4   Close      2998 non-null   float64\n",
      " 5   Adj Close  2998 non-null   float64\n",
      " 6   Volume     2998 non-null   int64  \n",
      "dtypes: float64(5), int64(1), object(1)\n",
      "memory usage: 164.1+ KB\n"
     ]
    }
   ],
   "source": [
    "df.info()"
   ]
  },
  {
   "cell_type": "code",
   "execution_count": 4,
   "metadata": {
    "colab": {
     "base_uri": "https://localhost:8080/",
     "height": 206
    },
    "id": "VfcLAqzaCeln",
    "outputId": "0f879c37-8c5c-44df-9e62-d82bcfa93cae"
   },
   "outputs": [
    {
     "data": {
      "text/html": [
       "<div>\n",
       "<style scoped>\n",
       "    .dataframe tbody tr th:only-of-type {\n",
       "        vertical-align: middle;\n",
       "    }\n",
       "\n",
       "    .dataframe tbody tr th {\n",
       "        vertical-align: top;\n",
       "    }\n",
       "\n",
       "    .dataframe thead th {\n",
       "        text-align: right;\n",
       "    }\n",
       "</style>\n",
       "<table border=\"1\" class=\"dataframe\">\n",
       "  <thead>\n",
       "    <tr style=\"text-align: right;\">\n",
       "      <th></th>\n",
       "      <th>Date</th>\n",
       "      <th>Open</th>\n",
       "      <th>High</th>\n",
       "      <th>Low</th>\n",
       "      <th>Close</th>\n",
       "      <th>Adj Close</th>\n",
       "      <th>Volume</th>\n",
       "    </tr>\n",
       "  </thead>\n",
       "  <tbody>\n",
       "    <tr>\n",
       "      <th>0</th>\n",
       "      <td>15-04-97</td>\n",
       "      <td>3.666667</td>\n",
       "      <td>3.916667</td>\n",
       "      <td>3.416667</td>\n",
       "      <td>3.916667</td>\n",
       "      <td>3.916425</td>\n",
       "      <td>1785600</td>\n",
       "    </tr>\n",
       "    <tr>\n",
       "      <th>1</th>\n",
       "      <td>16-04-97</td>\n",
       "      <td>3.916667</td>\n",
       "      <td>4.166667</td>\n",
       "      <td>3.583333</td>\n",
       "      <td>3.708333</td>\n",
       "      <td>3.708104</td>\n",
       "      <td>443700</td>\n",
       "    </tr>\n",
       "    <tr>\n",
       "      <th>2</th>\n",
       "      <td>17-04-97</td>\n",
       "      <td>3.750000</td>\n",
       "      <td>4.083333</td>\n",
       "      <td>3.750000</td>\n",
       "      <td>3.833333</td>\n",
       "      <td>3.833096</td>\n",
       "      <td>252150</td>\n",
       "    </tr>\n",
       "    <tr>\n",
       "      <th>3</th>\n",
       "      <td>18-04-97</td>\n",
       "      <td>3.833333</td>\n",
       "      <td>4.000000</td>\n",
       "      <td>3.833333</td>\n",
       "      <td>4.000000</td>\n",
       "      <td>3.999753</td>\n",
       "      <td>165900</td>\n",
       "    </tr>\n",
       "    <tr>\n",
       "      <th>4</th>\n",
       "      <td>21-04-97</td>\n",
       "      <td>3.916667</td>\n",
       "      <td>4.000000</td>\n",
       "      <td>3.916667</td>\n",
       "      <td>4.000000</td>\n",
       "      <td>3.999753</td>\n",
       "      <td>77400</td>\n",
       "    </tr>\n",
       "  </tbody>\n",
       "</table>\n",
       "</div>"
      ],
      "text/plain": [
       "       Date      Open      High       Low     Close  Adj Close   Volume\n",
       "0  15-04-97  3.666667  3.916667  3.416667  3.916667   3.916425  1785600\n",
       "1  16-04-97  3.916667  4.166667  3.583333  3.708333   3.708104   443700\n",
       "2  17-04-97  3.750000  4.083333  3.750000  3.833333   3.833096   252150\n",
       "3  18-04-97  3.833333  4.000000  3.833333  4.000000   3.999753   165900\n",
       "4  21-04-97  3.916667  4.000000  3.916667  4.000000   3.999753    77400"
      ]
     },
     "execution_count": 4,
     "metadata": {},
     "output_type": "execute_result"
    }
   ],
   "source": [
    "df.head()"
   ]
  },
  {
   "cell_type": "code",
   "execution_count": 5,
   "metadata": {
    "colab": {
     "base_uri": "https://localhost:8080/",
     "height": 206
    },
    "id": "fcLDGIAOCelo",
    "outputId": "084e3e3b-0bf6-43a5-fbe0-45c598421bd0"
   },
   "outputs": [
    {
     "data": {
      "text/html": [
       "<div>\n",
       "<style scoped>\n",
       "    .dataframe tbody tr th:only-of-type {\n",
       "        vertical-align: middle;\n",
       "    }\n",
       "\n",
       "    .dataframe tbody tr th {\n",
       "        vertical-align: top;\n",
       "    }\n",
       "\n",
       "    .dataframe thead th {\n",
       "        text-align: right;\n",
       "    }\n",
       "</style>\n",
       "<table border=\"1\" class=\"dataframe\">\n",
       "  <thead>\n",
       "    <tr style=\"text-align: right;\">\n",
       "      <th></th>\n",
       "      <th>Date</th>\n",
       "      <th>Open</th>\n",
       "      <th>High</th>\n",
       "      <th>Low</th>\n",
       "      <th>Close</th>\n",
       "      <th>Adj Close</th>\n",
       "      <th>Volume</th>\n",
       "    </tr>\n",
       "  </thead>\n",
       "  <tbody>\n",
       "    <tr>\n",
       "      <th>2993</th>\n",
       "      <td>09-03-09</td>\n",
       "      <td>6.15</td>\n",
       "      <td>6.27</td>\n",
       "      <td>5.87</td>\n",
       "      <td>6.01</td>\n",
       "      <td>6.01</td>\n",
       "      <td>1190100</td>\n",
       "    </tr>\n",
       "    <tr>\n",
       "      <th>2994</th>\n",
       "      <td>10-03-09</td>\n",
       "      <td>6.17</td>\n",
       "      <td>6.87</td>\n",
       "      <td>5.90</td>\n",
       "      <td>6.85</td>\n",
       "      <td>6.85</td>\n",
       "      <td>1553900</td>\n",
       "    </tr>\n",
       "    <tr>\n",
       "      <th>2995</th>\n",
       "      <td>11-03-09</td>\n",
       "      <td>6.42</td>\n",
       "      <td>6.67</td>\n",
       "      <td>6.05</td>\n",
       "      <td>6.41</td>\n",
       "      <td>6.41</td>\n",
       "      <td>2116100</td>\n",
       "    </tr>\n",
       "    <tr>\n",
       "      <th>2996</th>\n",
       "      <td>12-03-09</td>\n",
       "      <td>6.40</td>\n",
       "      <td>7.35</td>\n",
       "      <td>6.31</td>\n",
       "      <td>7.10</td>\n",
       "      <td>7.10</td>\n",
       "      <td>2152400</td>\n",
       "    </tr>\n",
       "    <tr>\n",
       "      <th>2997</th>\n",
       "      <td>13-03-09</td>\n",
       "      <td>7.13</td>\n",
       "      <td>7.43</td>\n",
       "      <td>6.92</td>\n",
       "      <td>7.36</td>\n",
       "      <td>7.36</td>\n",
       "      <td>868100</td>\n",
       "    </tr>\n",
       "  </tbody>\n",
       "</table>\n",
       "</div>"
      ],
      "text/plain": [
       "          Date  Open  High   Low  Close  Adj Close   Volume\n",
       "2993  09-03-09  6.15  6.27  5.87   6.01       6.01  1190100\n",
       "2994  10-03-09  6.17  6.87  5.90   6.85       6.85  1553900\n",
       "2995  11-03-09  6.42  6.67  6.05   6.41       6.41  2116100\n",
       "2996  12-03-09  6.40  7.35  6.31   7.10       7.10  2152400\n",
       "2997  13-03-09  7.13  7.43  6.92   7.36       7.36   868100"
      ]
     },
     "execution_count": 5,
     "metadata": {},
     "output_type": "execute_result"
    }
   ],
   "source": [
    "df.tail()"
   ]
  },
  {
   "cell_type": "code",
   "execution_count": 6,
   "metadata": {
    "colab": {
     "base_uri": "https://localhost:8080/",
     "height": 303
    },
    "id": "oB514F6uCelo",
    "outputId": "def31e3b-268b-4282-8cd5-3583e797f98d"
   },
   "outputs": [
    {
     "data": {
      "text/plain": [
       "Date         01-02-00\n",
       "Open             3.25\n",
       "High         3.416667\n",
       "Low               3.0\n",
       "Close        3.333333\n",
       "Adj Close    3.333127\n",
       "Volume              0\n",
       "dtype: object"
      ]
     },
     "execution_count": 6,
     "metadata": {},
     "output_type": "execute_result"
    }
   ],
   "source": [
    "df.min()"
   ]
  },
  {
   "cell_type": "code",
   "execution_count": 7,
   "metadata": {
    "colab": {
     "base_uri": "https://localhost:8080/",
     "height": 303
    },
    "id": "Myx2ZnXeCelo",
    "outputId": "b7eaa100-cadd-4b54-9bc5-1dda1e37f578"
   },
   "outputs": [
    {
     "data": {
      "text/plain": [
       "Date          31-12-99\n",
       "Open              29.4\n",
       "High              29.6\n",
       "Low          28.780001\n",
       "Close            29.34\n",
       "Adj Close    29.338188\n",
       "Volume        37567500\n",
       "dtype: object"
      ]
     },
     "execution_count": 7,
     "metadata": {},
     "output_type": "execute_result"
    }
   ],
   "source": [
    "df.max()"
   ]
  },
  {
   "cell_type": "code",
   "execution_count": 8,
   "metadata": {
    "colab": {
     "base_uri": "https://localhost:8080/",
     "height": 320
    },
    "id": "WtvyjD9OCelo",
    "outputId": "f378b1c4-3541-4144-b910-3c40c3f9a74c"
   },
   "outputs": [
    {
     "data": {
      "text/html": [
       "<div>\n",
       "<style scoped>\n",
       "    .dataframe tbody tr th:only-of-type {\n",
       "        vertical-align: middle;\n",
       "    }\n",
       "\n",
       "    .dataframe tbody tr th {\n",
       "        vertical-align: top;\n",
       "    }\n",
       "\n",
       "    .dataframe thead th {\n",
       "        text-align: right;\n",
       "    }\n",
       "</style>\n",
       "<table border=\"1\" class=\"dataframe\">\n",
       "  <thead>\n",
       "    <tr style=\"text-align: right;\">\n",
       "      <th></th>\n",
       "      <th>Open</th>\n",
       "      <th>High</th>\n",
       "      <th>Low</th>\n",
       "      <th>Close</th>\n",
       "      <th>Adj Close</th>\n",
       "      <th>Volume</th>\n",
       "    </tr>\n",
       "  </thead>\n",
       "  <tbody>\n",
       "    <tr>\n",
       "      <th>count</th>\n",
       "      <td>2998.000000</td>\n",
       "      <td>2998.000000</td>\n",
       "      <td>2998.000000</td>\n",
       "      <td>2998.000000</td>\n",
       "      <td>2998.000000</td>\n",
       "      <td>2.998000e+03</td>\n",
       "    </tr>\n",
       "    <tr>\n",
       "      <th>mean</th>\n",
       "      <td>13.961110</td>\n",
       "      <td>14.272733</td>\n",
       "      <td>13.640765</td>\n",
       "      <td>13.953993</td>\n",
       "      <td>13.953155</td>\n",
       "      <td>1.459030e+06</td>\n",
       "    </tr>\n",
       "    <tr>\n",
       "      <th>std</th>\n",
       "      <td>7.054317</td>\n",
       "      <td>7.135049</td>\n",
       "      <td>6.991317</td>\n",
       "      <td>7.061903</td>\n",
       "      <td>7.061456</td>\n",
       "      <td>2.009680e+06</td>\n",
       "    </tr>\n",
       "    <tr>\n",
       "      <th>min</th>\n",
       "      <td>3.250000</td>\n",
       "      <td>3.416667</td>\n",
       "      <td>3.000000</td>\n",
       "      <td>3.333333</td>\n",
       "      <td>3.333127</td>\n",
       "      <td>0.000000e+00</td>\n",
       "    </tr>\n",
       "    <tr>\n",
       "      <th>25%</th>\n",
       "      <td>7.333333</td>\n",
       "      <td>7.541667</td>\n",
       "      <td>7.000000</td>\n",
       "      <td>7.291667</td>\n",
       "      <td>7.291217</td>\n",
       "      <td>4.469875e+05</td>\n",
       "    </tr>\n",
       "    <tr>\n",
       "      <th>50%</th>\n",
       "      <td>14.095000</td>\n",
       "      <td>14.465000</td>\n",
       "      <td>13.660000</td>\n",
       "      <td>14.076666</td>\n",
       "      <td>14.076232</td>\n",
       "      <td>1.061550e+06</td>\n",
       "    </tr>\n",
       "    <tr>\n",
       "      <th>75%</th>\n",
       "      <td>19.620001</td>\n",
       "      <td>19.980000</td>\n",
       "      <td>19.200001</td>\n",
       "      <td>19.589999</td>\n",
       "      <td>19.588790</td>\n",
       "      <td>1.816100e+06</td>\n",
       "    </tr>\n",
       "    <tr>\n",
       "      <th>max</th>\n",
       "      <td>29.400000</td>\n",
       "      <td>29.600000</td>\n",
       "      <td>28.780001</td>\n",
       "      <td>29.340000</td>\n",
       "      <td>29.338188</td>\n",
       "      <td>3.756750e+07</td>\n",
       "    </tr>\n",
       "  </tbody>\n",
       "</table>\n",
       "</div>"
      ],
      "text/plain": [
       "              Open         High          Low        Close    Adj Close  \\\n",
       "count  2998.000000  2998.000000  2998.000000  2998.000000  2998.000000   \n",
       "mean     13.961110    14.272733    13.640765    13.953993    13.953155   \n",
       "std       7.054317     7.135049     6.991317     7.061903     7.061456   \n",
       "min       3.250000     3.416667     3.000000     3.333333     3.333127   \n",
       "25%       7.333333     7.541667     7.000000     7.291667     7.291217   \n",
       "50%      14.095000    14.465000    13.660000    14.076666    14.076232   \n",
       "75%      19.620001    19.980000    19.200001    19.589999    19.588790   \n",
       "max      29.400000    29.600000    28.780001    29.340000    29.338188   \n",
       "\n",
       "             Volume  \n",
       "count  2.998000e+03  \n",
       "mean   1.459030e+06  \n",
       "std    2.009680e+06  \n",
       "min    0.000000e+00  \n",
       "25%    4.469875e+05  \n",
       "50%    1.061550e+06  \n",
       "75%    1.816100e+06  \n",
       "max    3.756750e+07  "
      ]
     },
     "execution_count": 8,
     "metadata": {},
     "output_type": "execute_result"
    }
   ],
   "source": [
    "df.describe()"
   ]
  },
  {
   "cell_type": "code",
   "execution_count": 9,
   "metadata": {
    "colab": {
     "base_uri": "https://localhost:8080/",
     "height": 303
    },
    "id": "mq96AwS0Celo",
    "outputId": "8cdf5e7d-3eed-4bd9-ff85-335865c19ca5"
   },
   "outputs": [
    {
     "data": {
      "text/plain": [
       "Date         2998\n",
       "Open         2998\n",
       "High         2998\n",
       "Low          2998\n",
       "Close        2998\n",
       "Adj Close    2998\n",
       "Volume       2998\n",
       "dtype: int64"
      ]
     },
     "execution_count": 9,
     "metadata": {},
     "output_type": "execute_result"
    }
   ],
   "source": [
    "df.count()"
   ]
  },
  {
   "cell_type": "code",
   "execution_count": 10,
   "metadata": {
    "colab": {
     "base_uri": "https://localhost:8080/",
     "height": 303
    },
    "id": "7rgly_E-Celo",
    "outputId": "aa3f2d18-d94d-469c-b0eb-dcc443b6c4fc"
   },
   "outputs": [
    {
     "data": {
      "text/plain": [
       "Date         0\n",
       "Open         0\n",
       "High         0\n",
       "Low          0\n",
       "Close        0\n",
       "Adj Close    0\n",
       "Volume       0\n",
       "dtype: int64"
      ]
     },
     "execution_count": 10,
     "metadata": {},
     "output_type": "execute_result"
    }
   ],
   "source": [
    "df.isnull().sum()"
   ]
  },
  {
   "cell_type": "code",
   "execution_count": 11,
   "metadata": {
    "colab": {
     "base_uri": "https://localhost:8080/"
    },
    "id": "z9vB8cHwCelp",
    "outputId": "f501249d-8e27-4621-958a-17314e671ce0"
   },
   "outputs": [
    {
     "data": {
      "text/plain": [
       "np.int64(0)"
      ]
     },
     "execution_count": 11,
     "metadata": {},
     "output_type": "execute_result"
    }
   ],
   "source": [
    "df.duplicated().sum()"
   ]
  },
  {
   "cell_type": "code",
   "execution_count": 12,
   "metadata": {
    "colab": {
     "base_uri": "https://localhost:8080/",
     "height": 204
    },
    "id": "tZU3I9VdCelp",
    "outputId": "b522af6c-5733-4829-ba0a-e261eb20c1e8"
   },
   "outputs": [
    {
     "data": {
      "text/plain": [
       "<bound method DataFrame.mean of           Date      Open      High       Low     Close  Adj Close   Volume\n",
       "0     15-04-97  3.666667  3.916667  3.416667  3.916667   3.916425  1785600\n",
       "1     16-04-97  3.916667  4.166667  3.583333  3.708333   3.708104   443700\n",
       "2     17-04-97  3.750000  4.083333  3.750000  3.833333   3.833096   252150\n",
       "3     18-04-97  3.833333  4.000000  3.833333  4.000000   3.999753   165900\n",
       "4     21-04-97  3.916667  4.000000  3.916667  4.000000   3.999753    77400\n",
       "...        ...       ...       ...       ...       ...        ...      ...\n",
       "2993  09-03-09  6.150000  6.270000  5.870000  6.010000   6.010000  1190100\n",
       "2994  10-03-09  6.170000  6.870000  5.900000  6.850000   6.850000  1553900\n",
       "2995  11-03-09  6.420000  6.670000  6.050000  6.410000   6.410000  2116100\n",
       "2996  12-03-09  6.400000  7.350000  6.310000  7.100000   7.100000  2152400\n",
       "2997  13-03-09  7.130000  7.430000  6.920000  7.360000   7.360000   868100\n",
       "\n",
       "[2998 rows x 7 columns]>"
      ]
     },
     "execution_count": 12,
     "metadata": {},
     "output_type": "execute_result"
    }
   ],
   "source": [
    "df.mean"
   ]
  },
  {
   "cell_type": "code",
   "execution_count": 13,
   "metadata": {
    "colab": {
     "base_uri": "https://localhost:8080/"
    },
    "id": "2DniNP9DCelp",
    "outputId": "68829db1-1dc0-4926-f0e7-1b3167b2540d"
   },
   "outputs": [
    {
     "data": {
      "text/plain": [
       "(2998, 7)"
      ]
     },
     "execution_count": 13,
     "metadata": {},
     "output_type": "execute_result"
    }
   ],
   "source": [
    "df.shape"
   ]
  },
  {
   "cell_type": "code",
   "execution_count": 14,
   "metadata": {
    "colab": {
     "base_uri": "https://localhost:8080/",
     "height": 204
    },
    "id": "8mrdbtnWCelp",
    "outputId": "14563ed9-d1a8-46fb-9af6-314223b146c6"
   },
   "outputs": [
    {
     "data": {
      "text/plain": [
       "<bound method DataFrame.median of           Date      Open      High       Low     Close  Adj Close   Volume\n",
       "0     15-04-97  3.666667  3.916667  3.416667  3.916667   3.916425  1785600\n",
       "1     16-04-97  3.916667  4.166667  3.583333  3.708333   3.708104   443700\n",
       "2     17-04-97  3.750000  4.083333  3.750000  3.833333   3.833096   252150\n",
       "3     18-04-97  3.833333  4.000000  3.833333  4.000000   3.999753   165900\n",
       "4     21-04-97  3.916667  4.000000  3.916667  4.000000   3.999753    77400\n",
       "...        ...       ...       ...       ...       ...        ...      ...\n",
       "2993  09-03-09  6.150000  6.270000  5.870000  6.010000   6.010000  1190100\n",
       "2994  10-03-09  6.170000  6.870000  5.900000  6.850000   6.850000  1553900\n",
       "2995  11-03-09  6.420000  6.670000  6.050000  6.410000   6.410000  2116100\n",
       "2996  12-03-09  6.400000  7.350000  6.310000  7.100000   7.100000  2152400\n",
       "2997  13-03-09  7.130000  7.430000  6.920000  7.360000   7.360000   868100\n",
       "\n",
       "[2998 rows x 7 columns]>"
      ]
     },
     "execution_count": 14,
     "metadata": {},
     "output_type": "execute_result"
    }
   ],
   "source": [
    "df.median"
   ]
  },
  {
   "cell_type": "code",
   "execution_count": 15,
   "metadata": {
    "colab": {
     "base_uri": "https://localhost:8080/",
     "height": 204
    },
    "id": "qO7qxSnWCelq",
    "outputId": "2df0f50f-506d-49a0-8532-c16004eb63bd"
   },
   "outputs": [
    {
     "data": {
      "text/plain": [
       "<bound method DataFrame.std of           Date      Open      High       Low     Close  Adj Close   Volume\n",
       "0     15-04-97  3.666667  3.916667  3.416667  3.916667   3.916425  1785600\n",
       "1     16-04-97  3.916667  4.166667  3.583333  3.708333   3.708104   443700\n",
       "2     17-04-97  3.750000  4.083333  3.750000  3.833333   3.833096   252150\n",
       "3     18-04-97  3.833333  4.000000  3.833333  4.000000   3.999753   165900\n",
       "4     21-04-97  3.916667  4.000000  3.916667  4.000000   3.999753    77400\n",
       "...        ...       ...       ...       ...       ...        ...      ...\n",
       "2993  09-03-09  6.150000  6.270000  5.870000  6.010000   6.010000  1190100\n",
       "2994  10-03-09  6.170000  6.870000  5.900000  6.850000   6.850000  1553900\n",
       "2995  11-03-09  6.420000  6.670000  6.050000  6.410000   6.410000  2116100\n",
       "2996  12-03-09  6.400000  7.350000  6.310000  7.100000   7.100000  2152400\n",
       "2997  13-03-09  7.130000  7.430000  6.920000  7.360000   7.360000   868100\n",
       "\n",
       "[2998 rows x 7 columns]>"
      ]
     },
     "execution_count": 15,
     "metadata": {},
     "output_type": "execute_result"
    }
   ],
   "source": [
    "df.std"
   ]
  },
  {
   "cell_type": "markdown",
   "metadata": {
    "id": "7a8E0gOkCelq"
   },
   "source": [
    "## DATA CLEANING"
   ]
  },
  {
   "cell_type": "code",
   "execution_count": 16,
   "metadata": {},
   "outputs": [
    {
     "data": {
      "text/html": [
       "<div>\n",
       "<style scoped>\n",
       "    .dataframe tbody tr th:only-of-type {\n",
       "        vertical-align: middle;\n",
       "    }\n",
       "\n",
       "    .dataframe tbody tr th {\n",
       "        vertical-align: top;\n",
       "    }\n",
       "\n",
       "    .dataframe thead th {\n",
       "        text-align: right;\n",
       "    }\n",
       "</style>\n",
       "<table border=\"1\" class=\"dataframe\">\n",
       "  <thead>\n",
       "    <tr style=\"text-align: right;\">\n",
       "      <th></th>\n",
       "      <th>Date</th>\n",
       "      <th>Open</th>\n",
       "      <th>High</th>\n",
       "      <th>Low</th>\n",
       "      <th>Close</th>\n",
       "      <th>Adj Close</th>\n",
       "    </tr>\n",
       "  </thead>\n",
       "  <tbody>\n",
       "    <tr>\n",
       "      <th>0</th>\n",
       "      <td>15-04-97</td>\n",
       "      <td>3.666667</td>\n",
       "      <td>3.916667</td>\n",
       "      <td>3.416667</td>\n",
       "      <td>3.916667</td>\n",
       "      <td>3.916425</td>\n",
       "    </tr>\n",
       "    <tr>\n",
       "      <th>1</th>\n",
       "      <td>16-04-97</td>\n",
       "      <td>3.916667</td>\n",
       "      <td>4.166667</td>\n",
       "      <td>3.583333</td>\n",
       "      <td>3.708333</td>\n",
       "      <td>3.708104</td>\n",
       "    </tr>\n",
       "    <tr>\n",
       "      <th>2</th>\n",
       "      <td>17-04-97</td>\n",
       "      <td>3.750000</td>\n",
       "      <td>4.083333</td>\n",
       "      <td>3.750000</td>\n",
       "      <td>3.833333</td>\n",
       "      <td>3.833096</td>\n",
       "    </tr>\n",
       "    <tr>\n",
       "      <th>3</th>\n",
       "      <td>18-04-97</td>\n",
       "      <td>3.833333</td>\n",
       "      <td>4.000000</td>\n",
       "      <td>3.833333</td>\n",
       "      <td>4.000000</td>\n",
       "      <td>3.999753</td>\n",
       "    </tr>\n",
       "    <tr>\n",
       "      <th>4</th>\n",
       "      <td>21-04-97</td>\n",
       "      <td>3.916667</td>\n",
       "      <td>4.000000</td>\n",
       "      <td>3.916667</td>\n",
       "      <td>4.000000</td>\n",
       "      <td>3.999753</td>\n",
       "    </tr>\n",
       "    <tr>\n",
       "      <th>...</th>\n",
       "      <td>...</td>\n",
       "      <td>...</td>\n",
       "      <td>...</td>\n",
       "      <td>...</td>\n",
       "      <td>...</td>\n",
       "      <td>...</td>\n",
       "    </tr>\n",
       "    <tr>\n",
       "      <th>2993</th>\n",
       "      <td>09-03-09</td>\n",
       "      <td>6.150000</td>\n",
       "      <td>6.270000</td>\n",
       "      <td>5.870000</td>\n",
       "      <td>6.010000</td>\n",
       "      <td>6.010000</td>\n",
       "    </tr>\n",
       "    <tr>\n",
       "      <th>2994</th>\n",
       "      <td>10-03-09</td>\n",
       "      <td>6.170000</td>\n",
       "      <td>6.870000</td>\n",
       "      <td>5.900000</td>\n",
       "      <td>6.850000</td>\n",
       "      <td>6.850000</td>\n",
       "    </tr>\n",
       "    <tr>\n",
       "      <th>2995</th>\n",
       "      <td>11-03-09</td>\n",
       "      <td>6.420000</td>\n",
       "      <td>6.670000</td>\n",
       "      <td>6.050000</td>\n",
       "      <td>6.410000</td>\n",
       "      <td>6.410000</td>\n",
       "    </tr>\n",
       "    <tr>\n",
       "      <th>2996</th>\n",
       "      <td>12-03-09</td>\n",
       "      <td>6.400000</td>\n",
       "      <td>7.350000</td>\n",
       "      <td>6.310000</td>\n",
       "      <td>7.100000</td>\n",
       "      <td>7.100000</td>\n",
       "    </tr>\n",
       "    <tr>\n",
       "      <th>2997</th>\n",
       "      <td>13-03-09</td>\n",
       "      <td>7.130000</td>\n",
       "      <td>7.430000</td>\n",
       "      <td>6.920000</td>\n",
       "      <td>7.360000</td>\n",
       "      <td>7.360000</td>\n",
       "    </tr>\n",
       "  </tbody>\n",
       "</table>\n",
       "<p>2998 rows × 6 columns</p>\n",
       "</div>"
      ],
      "text/plain": [
       "          Date      Open      High       Low     Close  Adj Close\n",
       "0     15-04-97  3.666667  3.916667  3.416667  3.916667   3.916425\n",
       "1     16-04-97  3.916667  4.166667  3.583333  3.708333   3.708104\n",
       "2     17-04-97  3.750000  4.083333  3.750000  3.833333   3.833096\n",
       "3     18-04-97  3.833333  4.000000  3.833333  4.000000   3.999753\n",
       "4     21-04-97  3.916667  4.000000  3.916667  4.000000   3.999753\n",
       "...        ...       ...       ...       ...       ...        ...\n",
       "2993  09-03-09  6.150000  6.270000  5.870000  6.010000   6.010000\n",
       "2994  10-03-09  6.170000  6.870000  5.900000  6.850000   6.850000\n",
       "2995  11-03-09  6.420000  6.670000  6.050000  6.410000   6.410000\n",
       "2996  12-03-09  6.400000  7.350000  6.310000  7.100000   7.100000\n",
       "2997  13-03-09  7.130000  7.430000  6.920000  7.360000   7.360000\n",
       "\n",
       "[2998 rows x 6 columns]"
      ]
     },
     "execution_count": 16,
     "metadata": {},
     "output_type": "execute_result"
    }
   ],
   "source": [
    "df.drop(columns=['Volume'],inplace=True)\n",
    "df"
   ]
  },
  {
   "cell_type": "code",
   "execution_count": 17,
   "metadata": {
    "colab": {
     "base_uri": "https://localhost:8080/",
     "height": 423
    },
    "id": "OKt9wFmoCelq",
    "outputId": "00b56b62-863b-40f0-8197-05c3a01d2b96"
   },
   "outputs": [
    {
     "data": {
      "text/html": [
       "<div>\n",
       "<style scoped>\n",
       "    .dataframe tbody tr th:only-of-type {\n",
       "        vertical-align: middle;\n",
       "    }\n",
       "\n",
       "    .dataframe tbody tr th {\n",
       "        vertical-align: top;\n",
       "    }\n",
       "\n",
       "    .dataframe thead th {\n",
       "        text-align: right;\n",
       "    }\n",
       "</style>\n",
       "<table border=\"1\" class=\"dataframe\">\n",
       "  <thead>\n",
       "    <tr style=\"text-align: right;\">\n",
       "      <th></th>\n",
       "      <th>Date</th>\n",
       "      <th>Open</th>\n",
       "      <th>High</th>\n",
       "      <th>Low</th>\n",
       "      <th>Close</th>\n",
       "    </tr>\n",
       "  </thead>\n",
       "  <tbody>\n",
       "    <tr>\n",
       "      <th>0</th>\n",
       "      <td>15-04-97</td>\n",
       "      <td>3.666667</td>\n",
       "      <td>3.916667</td>\n",
       "      <td>3.416667</td>\n",
       "      <td>3.916667</td>\n",
       "    </tr>\n",
       "    <tr>\n",
       "      <th>1</th>\n",
       "      <td>16-04-97</td>\n",
       "      <td>3.916667</td>\n",
       "      <td>4.166667</td>\n",
       "      <td>3.583333</td>\n",
       "      <td>3.708333</td>\n",
       "    </tr>\n",
       "    <tr>\n",
       "      <th>2</th>\n",
       "      <td>17-04-97</td>\n",
       "      <td>3.750000</td>\n",
       "      <td>4.083333</td>\n",
       "      <td>3.750000</td>\n",
       "      <td>3.833333</td>\n",
       "    </tr>\n",
       "    <tr>\n",
       "      <th>3</th>\n",
       "      <td>18-04-97</td>\n",
       "      <td>3.833333</td>\n",
       "      <td>4.000000</td>\n",
       "      <td>3.833333</td>\n",
       "      <td>4.000000</td>\n",
       "    </tr>\n",
       "    <tr>\n",
       "      <th>4</th>\n",
       "      <td>21-04-97</td>\n",
       "      <td>3.916667</td>\n",
       "      <td>4.000000</td>\n",
       "      <td>3.916667</td>\n",
       "      <td>4.000000</td>\n",
       "    </tr>\n",
       "    <tr>\n",
       "      <th>...</th>\n",
       "      <td>...</td>\n",
       "      <td>...</td>\n",
       "      <td>...</td>\n",
       "      <td>...</td>\n",
       "      <td>...</td>\n",
       "    </tr>\n",
       "    <tr>\n",
       "      <th>2993</th>\n",
       "      <td>09-03-09</td>\n",
       "      <td>6.150000</td>\n",
       "      <td>6.270000</td>\n",
       "      <td>5.870000</td>\n",
       "      <td>6.010000</td>\n",
       "    </tr>\n",
       "    <tr>\n",
       "      <th>2994</th>\n",
       "      <td>10-03-09</td>\n",
       "      <td>6.170000</td>\n",
       "      <td>6.870000</td>\n",
       "      <td>5.900000</td>\n",
       "      <td>6.850000</td>\n",
       "    </tr>\n",
       "    <tr>\n",
       "      <th>2995</th>\n",
       "      <td>11-03-09</td>\n",
       "      <td>6.420000</td>\n",
       "      <td>6.670000</td>\n",
       "      <td>6.050000</td>\n",
       "      <td>6.410000</td>\n",
       "    </tr>\n",
       "    <tr>\n",
       "      <th>2996</th>\n",
       "      <td>12-03-09</td>\n",
       "      <td>6.400000</td>\n",
       "      <td>7.350000</td>\n",
       "      <td>6.310000</td>\n",
       "      <td>7.100000</td>\n",
       "    </tr>\n",
       "    <tr>\n",
       "      <th>2997</th>\n",
       "      <td>13-03-09</td>\n",
       "      <td>7.130000</td>\n",
       "      <td>7.430000</td>\n",
       "      <td>6.920000</td>\n",
       "      <td>7.360000</td>\n",
       "    </tr>\n",
       "  </tbody>\n",
       "</table>\n",
       "<p>2998 rows × 5 columns</p>\n",
       "</div>"
      ],
      "text/plain": [
       "          Date      Open      High       Low     Close\n",
       "0     15-04-97  3.666667  3.916667  3.416667  3.916667\n",
       "1     16-04-97  3.916667  4.166667  3.583333  3.708333\n",
       "2     17-04-97  3.750000  4.083333  3.750000  3.833333\n",
       "3     18-04-97  3.833333  4.000000  3.833333  4.000000\n",
       "4     21-04-97  3.916667  4.000000  3.916667  4.000000\n",
       "...        ...       ...       ...       ...       ...\n",
       "2993  09-03-09  6.150000  6.270000  5.870000  6.010000\n",
       "2994  10-03-09  6.170000  6.870000  5.900000  6.850000\n",
       "2995  11-03-09  6.420000  6.670000  6.050000  6.410000\n",
       "2996  12-03-09  6.400000  7.350000  6.310000  7.100000\n",
       "2997  13-03-09  7.130000  7.430000  6.920000  7.360000\n",
       "\n",
       "[2998 rows x 5 columns]"
      ]
     },
     "execution_count": 17,
     "metadata": {},
     "output_type": "execute_result"
    }
   ],
   "source": [
    "df.drop(columns=['Adj Close'],inplace=True)\n",
    "df"
   ]
  },
  {
   "cell_type": "markdown",
   "metadata": {
    "id": "4SJmQK8xCelq"
   },
   "source": [
    "## MODEL TRANING"
   ]
  },
  {
   "cell_type": "code",
   "execution_count": 18,
   "metadata": {
    "id": "3nV_y9xHCelq"
   },
   "outputs": [],
   "source": [
    "import sklearn\n",
    "from sklearn.model_selection import train_test_split\n",
    "from sklearn.ensemble import RandomForestRegressor\n",
    "from sklearn.tree import DecisionTreeRegressor\n",
    "from sklearn.ensemble import ExtraTreesRegressor\n",
    "from sklearn.linear_model import LinearRegression\n",
    "from sklearn.metrics import accuracy_score,r2_score"
   ]
  },
  {
   "cell_type": "code",
   "execution_count": 19,
   "metadata": {
    "colab": {
     "base_uri": "https://localhost:8080/",
     "height": 206
    },
    "id": "QjwJ0KqzCelq",
    "outputId": "08596d66-7cea-4518-d255-6be154cfb913"
   },
   "outputs": [
    {
     "data": {
      "text/html": [
       "<div>\n",
       "<style scoped>\n",
       "    .dataframe tbody tr th:only-of-type {\n",
       "        vertical-align: middle;\n",
       "    }\n",
       "\n",
       "    .dataframe tbody tr th {\n",
       "        vertical-align: top;\n",
       "    }\n",
       "\n",
       "    .dataframe thead th {\n",
       "        text-align: right;\n",
       "    }\n",
       "</style>\n",
       "<table border=\"1\" class=\"dataframe\">\n",
       "  <thead>\n",
       "    <tr style=\"text-align: right;\">\n",
       "      <th></th>\n",
       "      <th>Date</th>\n",
       "      <th>Open</th>\n",
       "      <th>High</th>\n",
       "      <th>Low</th>\n",
       "      <th>Close</th>\n",
       "    </tr>\n",
       "  </thead>\n",
       "  <tbody>\n",
       "    <tr>\n",
       "      <th>0</th>\n",
       "      <td>15-04-97</td>\n",
       "      <td>3.666667</td>\n",
       "      <td>3.916667</td>\n",
       "      <td>3.416667</td>\n",
       "      <td>3.916667</td>\n",
       "    </tr>\n",
       "    <tr>\n",
       "      <th>1</th>\n",
       "      <td>16-04-97</td>\n",
       "      <td>3.916667</td>\n",
       "      <td>4.166667</td>\n",
       "      <td>3.583333</td>\n",
       "      <td>3.708333</td>\n",
       "    </tr>\n",
       "    <tr>\n",
       "      <th>2</th>\n",
       "      <td>17-04-97</td>\n",
       "      <td>3.750000</td>\n",
       "      <td>4.083333</td>\n",
       "      <td>3.750000</td>\n",
       "      <td>3.833333</td>\n",
       "    </tr>\n",
       "    <tr>\n",
       "      <th>3</th>\n",
       "      <td>18-04-97</td>\n",
       "      <td>3.833333</td>\n",
       "      <td>4.000000</td>\n",
       "      <td>3.833333</td>\n",
       "      <td>4.000000</td>\n",
       "    </tr>\n",
       "    <tr>\n",
       "      <th>4</th>\n",
       "      <td>21-04-97</td>\n",
       "      <td>3.916667</td>\n",
       "      <td>4.000000</td>\n",
       "      <td>3.916667</td>\n",
       "      <td>4.000000</td>\n",
       "    </tr>\n",
       "  </tbody>\n",
       "</table>\n",
       "</div>"
      ],
      "text/plain": [
       "       Date      Open      High       Low     Close\n",
       "0  15-04-97  3.666667  3.916667  3.416667  3.916667\n",
       "1  16-04-97  3.916667  4.166667  3.583333  3.708333\n",
       "2  17-04-97  3.750000  4.083333  3.750000  3.833333\n",
       "3  18-04-97  3.833333  4.000000  3.833333  4.000000\n",
       "4  21-04-97  3.916667  4.000000  3.916667  4.000000"
      ]
     },
     "execution_count": 19,
     "metadata": {},
     "output_type": "execute_result"
    }
   ],
   "source": [
    "df.head()"
   ]
  },
  {
   "cell_type": "code",
   "execution_count": 20,
   "metadata": {
    "id": "Ul7nT7YMCelq"
   },
   "outputs": [],
   "source": [
    "x = df[['Open']]\n",
    "y = df['Close']"
   ]
  },
  {
   "cell_type": "code",
   "execution_count": 21,
   "metadata": {
    "id": "a5gx40iQCelr"
   },
   "outputs": [],
   "source": [
    "# splitting the data\n",
    "x_train,x_test,y_train,y_test = train_test_split(x,y,test_size=0.2)"
   ]
  },
  {
   "cell_type": "code",
   "execution_count": 22,
   "metadata": {
    "id": "bV9B5oyNCelr"
   },
   "outputs": [],
   "source": [
    "\n",
    "model_rf = RandomForestRegressor()"
   ]
  },
  {
   "cell_type": "code",
   "execution_count": 23,
   "metadata": {
    "colab": {
     "base_uri": "https://localhost:8080/",
     "height": 75
    },
    "id": "rb_ZsS5hCelr",
    "outputId": "98577aff-5f44-4ac7-ab4d-6ab7d531aa2c"
   },
   "outputs": [
    {
     "data": {
      "text/html": [
       "<style>#sk-container-id-1 {\n",
       "  /* Definition of color scheme common for light and dark mode */\n",
       "  --sklearn-color-text: black;\n",
       "  --sklearn-color-line: gray;\n",
       "  /* Definition of color scheme for unfitted estimators */\n",
       "  --sklearn-color-unfitted-level-0: #fff5e6;\n",
       "  --sklearn-color-unfitted-level-1: #f6e4d2;\n",
       "  --sklearn-color-unfitted-level-2: #ffe0b3;\n",
       "  --sklearn-color-unfitted-level-3: chocolate;\n",
       "  /* Definition of color scheme for fitted estimators */\n",
       "  --sklearn-color-fitted-level-0: #f0f8ff;\n",
       "  --sklearn-color-fitted-level-1: #d4ebff;\n",
       "  --sklearn-color-fitted-level-2: #b3dbfd;\n",
       "  --sklearn-color-fitted-level-3: cornflowerblue;\n",
       "\n",
       "  /* Specific color for light theme */\n",
       "  --sklearn-color-text-on-default-background: var(--sg-text-color, var(--theme-code-foreground, var(--jp-content-font-color1, black)));\n",
       "  --sklearn-color-background: var(--sg-background-color, var(--theme-background, var(--jp-layout-color0, white)));\n",
       "  --sklearn-color-border-box: var(--sg-text-color, var(--theme-code-foreground, var(--jp-content-font-color1, black)));\n",
       "  --sklearn-color-icon: #696969;\n",
       "\n",
       "  @media (prefers-color-scheme: dark) {\n",
       "    /* Redefinition of color scheme for dark theme */\n",
       "    --sklearn-color-text-on-default-background: var(--sg-text-color, var(--theme-code-foreground, var(--jp-content-font-color1, white)));\n",
       "    --sklearn-color-background: var(--sg-background-color, var(--theme-background, var(--jp-layout-color0, #111)));\n",
       "    --sklearn-color-border-box: var(--sg-text-color, var(--theme-code-foreground, var(--jp-content-font-color1, white)));\n",
       "    --sklearn-color-icon: #878787;\n",
       "  }\n",
       "}\n",
       "\n",
       "#sk-container-id-1 {\n",
       "  color: var(--sklearn-color-text);\n",
       "}\n",
       "\n",
       "#sk-container-id-1 pre {\n",
       "  padding: 0;\n",
       "}\n",
       "\n",
       "#sk-container-id-1 input.sk-hidden--visually {\n",
       "  border: 0;\n",
       "  clip: rect(1px 1px 1px 1px);\n",
       "  clip: rect(1px, 1px, 1px, 1px);\n",
       "  height: 1px;\n",
       "  margin: -1px;\n",
       "  overflow: hidden;\n",
       "  padding: 0;\n",
       "  position: absolute;\n",
       "  width: 1px;\n",
       "}\n",
       "\n",
       "#sk-container-id-1 div.sk-dashed-wrapped {\n",
       "  border: 1px dashed var(--sklearn-color-line);\n",
       "  margin: 0 0.4em 0.5em 0.4em;\n",
       "  box-sizing: border-box;\n",
       "  padding-bottom: 0.4em;\n",
       "  background-color: var(--sklearn-color-background);\n",
       "}\n",
       "\n",
       "#sk-container-id-1 div.sk-container {\n",
       "  /* jupyter's `normalize.less` sets `[hidden] { display: none; }`\n",
       "     but bootstrap.min.css set `[hidden] { display: none !important; }`\n",
       "     so we also need the `!important` here to be able to override the\n",
       "     default hidden behavior on the sphinx rendered scikit-learn.org.\n",
       "     See: https://github.com/scikit-learn/scikit-learn/issues/21755 */\n",
       "  display: inline-block !important;\n",
       "  position: relative;\n",
       "}\n",
       "\n",
       "#sk-container-id-1 div.sk-text-repr-fallback {\n",
       "  display: none;\n",
       "}\n",
       "\n",
       "div.sk-parallel-item,\n",
       "div.sk-serial,\n",
       "div.sk-item {\n",
       "  /* draw centered vertical line to link estimators */\n",
       "  background-image: linear-gradient(var(--sklearn-color-text-on-default-background), var(--sklearn-color-text-on-default-background));\n",
       "  background-size: 2px 100%;\n",
       "  background-repeat: no-repeat;\n",
       "  background-position: center center;\n",
       "}\n",
       "\n",
       "/* Parallel-specific style estimator block */\n",
       "\n",
       "#sk-container-id-1 div.sk-parallel-item::after {\n",
       "  content: \"\";\n",
       "  width: 100%;\n",
       "  border-bottom: 2px solid var(--sklearn-color-text-on-default-background);\n",
       "  flex-grow: 1;\n",
       "}\n",
       "\n",
       "#sk-container-id-1 div.sk-parallel {\n",
       "  display: flex;\n",
       "  align-items: stretch;\n",
       "  justify-content: center;\n",
       "  background-color: var(--sklearn-color-background);\n",
       "  position: relative;\n",
       "}\n",
       "\n",
       "#sk-container-id-1 div.sk-parallel-item {\n",
       "  display: flex;\n",
       "  flex-direction: column;\n",
       "}\n",
       "\n",
       "#sk-container-id-1 div.sk-parallel-item:first-child::after {\n",
       "  align-self: flex-end;\n",
       "  width: 50%;\n",
       "}\n",
       "\n",
       "#sk-container-id-1 div.sk-parallel-item:last-child::after {\n",
       "  align-self: flex-start;\n",
       "  width: 50%;\n",
       "}\n",
       "\n",
       "#sk-container-id-1 div.sk-parallel-item:only-child::after {\n",
       "  width: 0;\n",
       "}\n",
       "\n",
       "/* Serial-specific style estimator block */\n",
       "\n",
       "#sk-container-id-1 div.sk-serial {\n",
       "  display: flex;\n",
       "  flex-direction: column;\n",
       "  align-items: center;\n",
       "  background-color: var(--sklearn-color-background);\n",
       "  padding-right: 1em;\n",
       "  padding-left: 1em;\n",
       "}\n",
       "\n",
       "\n",
       "/* Toggleable style: style used for estimator/Pipeline/ColumnTransformer box that is\n",
       "clickable and can be expanded/collapsed.\n",
       "- Pipeline and ColumnTransformer use this feature and define the default style\n",
       "- Estimators will overwrite some part of the style using the `sk-estimator` class\n",
       "*/\n",
       "\n",
       "/* Pipeline and ColumnTransformer style (default) */\n",
       "\n",
       "#sk-container-id-1 div.sk-toggleable {\n",
       "  /* Default theme specific background. It is overwritten whether we have a\n",
       "  specific estimator or a Pipeline/ColumnTransformer */\n",
       "  background-color: var(--sklearn-color-background);\n",
       "}\n",
       "\n",
       "/* Toggleable label */\n",
       "#sk-container-id-1 label.sk-toggleable__label {\n",
       "  cursor: pointer;\n",
       "  display: block;\n",
       "  width: 100%;\n",
       "  margin-bottom: 0;\n",
       "  padding: 0.5em;\n",
       "  box-sizing: border-box;\n",
       "  text-align: center;\n",
       "}\n",
       "\n",
       "#sk-container-id-1 label.sk-toggleable__label-arrow:before {\n",
       "  /* Arrow on the left of the label */\n",
       "  content: \"▸\";\n",
       "  float: left;\n",
       "  margin-right: 0.25em;\n",
       "  color: var(--sklearn-color-icon);\n",
       "}\n",
       "\n",
       "#sk-container-id-1 label.sk-toggleable__label-arrow:hover:before {\n",
       "  color: var(--sklearn-color-text);\n",
       "}\n",
       "\n",
       "/* Toggleable content - dropdown */\n",
       "\n",
       "#sk-container-id-1 div.sk-toggleable__content {\n",
       "  max-height: 0;\n",
       "  max-width: 0;\n",
       "  overflow: hidden;\n",
       "  text-align: left;\n",
       "  /* unfitted */\n",
       "  background-color: var(--sklearn-color-unfitted-level-0);\n",
       "}\n",
       "\n",
       "#sk-container-id-1 div.sk-toggleable__content.fitted {\n",
       "  /* fitted */\n",
       "  background-color: var(--sklearn-color-fitted-level-0);\n",
       "}\n",
       "\n",
       "#sk-container-id-1 div.sk-toggleable__content pre {\n",
       "  margin: 0.2em;\n",
       "  border-radius: 0.25em;\n",
       "  color: var(--sklearn-color-text);\n",
       "  /* unfitted */\n",
       "  background-color: var(--sklearn-color-unfitted-level-0);\n",
       "}\n",
       "\n",
       "#sk-container-id-1 div.sk-toggleable__content.fitted pre {\n",
       "  /* unfitted */\n",
       "  background-color: var(--sklearn-color-fitted-level-0);\n",
       "}\n",
       "\n",
       "#sk-container-id-1 input.sk-toggleable__control:checked~div.sk-toggleable__content {\n",
       "  /* Expand drop-down */\n",
       "  max-height: 200px;\n",
       "  max-width: 100%;\n",
       "  overflow: auto;\n",
       "}\n",
       "\n",
       "#sk-container-id-1 input.sk-toggleable__control:checked~label.sk-toggleable__label-arrow:before {\n",
       "  content: \"▾\";\n",
       "}\n",
       "\n",
       "/* Pipeline/ColumnTransformer-specific style */\n",
       "\n",
       "#sk-container-id-1 div.sk-label input.sk-toggleable__control:checked~label.sk-toggleable__label {\n",
       "  color: var(--sklearn-color-text);\n",
       "  background-color: var(--sklearn-color-unfitted-level-2);\n",
       "}\n",
       "\n",
       "#sk-container-id-1 div.sk-label.fitted input.sk-toggleable__control:checked~label.sk-toggleable__label {\n",
       "  background-color: var(--sklearn-color-fitted-level-2);\n",
       "}\n",
       "\n",
       "/* Estimator-specific style */\n",
       "\n",
       "/* Colorize estimator box */\n",
       "#sk-container-id-1 div.sk-estimator input.sk-toggleable__control:checked~label.sk-toggleable__label {\n",
       "  /* unfitted */\n",
       "  background-color: var(--sklearn-color-unfitted-level-2);\n",
       "}\n",
       "\n",
       "#sk-container-id-1 div.sk-estimator.fitted input.sk-toggleable__control:checked~label.sk-toggleable__label {\n",
       "  /* fitted */\n",
       "  background-color: var(--sklearn-color-fitted-level-2);\n",
       "}\n",
       "\n",
       "#sk-container-id-1 div.sk-label label.sk-toggleable__label,\n",
       "#sk-container-id-1 div.sk-label label {\n",
       "  /* The background is the default theme color */\n",
       "  color: var(--sklearn-color-text-on-default-background);\n",
       "}\n",
       "\n",
       "/* On hover, darken the color of the background */\n",
       "#sk-container-id-1 div.sk-label:hover label.sk-toggleable__label {\n",
       "  color: var(--sklearn-color-text);\n",
       "  background-color: var(--sklearn-color-unfitted-level-2);\n",
       "}\n",
       "\n",
       "/* Label box, darken color on hover, fitted */\n",
       "#sk-container-id-1 div.sk-label.fitted:hover label.sk-toggleable__label.fitted {\n",
       "  color: var(--sklearn-color-text);\n",
       "  background-color: var(--sklearn-color-fitted-level-2);\n",
       "}\n",
       "\n",
       "/* Estimator label */\n",
       "\n",
       "#sk-container-id-1 div.sk-label label {\n",
       "  font-family: monospace;\n",
       "  font-weight: bold;\n",
       "  display: inline-block;\n",
       "  line-height: 1.2em;\n",
       "}\n",
       "\n",
       "#sk-container-id-1 div.sk-label-container {\n",
       "  text-align: center;\n",
       "}\n",
       "\n",
       "/* Estimator-specific */\n",
       "#sk-container-id-1 div.sk-estimator {\n",
       "  font-family: monospace;\n",
       "  border: 1px dotted var(--sklearn-color-border-box);\n",
       "  border-radius: 0.25em;\n",
       "  box-sizing: border-box;\n",
       "  margin-bottom: 0.5em;\n",
       "  /* unfitted */\n",
       "  background-color: var(--sklearn-color-unfitted-level-0);\n",
       "}\n",
       "\n",
       "#sk-container-id-1 div.sk-estimator.fitted {\n",
       "  /* fitted */\n",
       "  background-color: var(--sklearn-color-fitted-level-0);\n",
       "}\n",
       "\n",
       "/* on hover */\n",
       "#sk-container-id-1 div.sk-estimator:hover {\n",
       "  /* unfitted */\n",
       "  background-color: var(--sklearn-color-unfitted-level-2);\n",
       "}\n",
       "\n",
       "#sk-container-id-1 div.sk-estimator.fitted:hover {\n",
       "  /* fitted */\n",
       "  background-color: var(--sklearn-color-fitted-level-2);\n",
       "}\n",
       "\n",
       "/* Specification for estimator info (e.g. \"i\" and \"?\") */\n",
       "\n",
       "/* Common style for \"i\" and \"?\" */\n",
       "\n",
       ".sk-estimator-doc-link,\n",
       "a:link.sk-estimator-doc-link,\n",
       "a:visited.sk-estimator-doc-link {\n",
       "  float: right;\n",
       "  font-size: smaller;\n",
       "  line-height: 1em;\n",
       "  font-family: monospace;\n",
       "  background-color: var(--sklearn-color-background);\n",
       "  border-radius: 1em;\n",
       "  height: 1em;\n",
       "  width: 1em;\n",
       "  text-decoration: none !important;\n",
       "  margin-left: 1ex;\n",
       "  /* unfitted */\n",
       "  border: var(--sklearn-color-unfitted-level-1) 1pt solid;\n",
       "  color: var(--sklearn-color-unfitted-level-1);\n",
       "}\n",
       "\n",
       ".sk-estimator-doc-link.fitted,\n",
       "a:link.sk-estimator-doc-link.fitted,\n",
       "a:visited.sk-estimator-doc-link.fitted {\n",
       "  /* fitted */\n",
       "  border: var(--sklearn-color-fitted-level-1) 1pt solid;\n",
       "  color: var(--sklearn-color-fitted-level-1);\n",
       "}\n",
       "\n",
       "/* On hover */\n",
       "div.sk-estimator:hover .sk-estimator-doc-link:hover,\n",
       ".sk-estimator-doc-link:hover,\n",
       "div.sk-label-container:hover .sk-estimator-doc-link:hover,\n",
       ".sk-estimator-doc-link:hover {\n",
       "  /* unfitted */\n",
       "  background-color: var(--sklearn-color-unfitted-level-3);\n",
       "  color: var(--sklearn-color-background);\n",
       "  text-decoration: none;\n",
       "}\n",
       "\n",
       "div.sk-estimator.fitted:hover .sk-estimator-doc-link.fitted:hover,\n",
       ".sk-estimator-doc-link.fitted:hover,\n",
       "div.sk-label-container:hover .sk-estimator-doc-link.fitted:hover,\n",
       ".sk-estimator-doc-link.fitted:hover {\n",
       "  /* fitted */\n",
       "  background-color: var(--sklearn-color-fitted-level-3);\n",
       "  color: var(--sklearn-color-background);\n",
       "  text-decoration: none;\n",
       "}\n",
       "\n",
       "/* Span, style for the box shown on hovering the info icon */\n",
       ".sk-estimator-doc-link span {\n",
       "  display: none;\n",
       "  z-index: 9999;\n",
       "  position: relative;\n",
       "  font-weight: normal;\n",
       "  right: .2ex;\n",
       "  padding: .5ex;\n",
       "  margin: .5ex;\n",
       "  width: min-content;\n",
       "  min-width: 20ex;\n",
       "  max-width: 50ex;\n",
       "  color: var(--sklearn-color-text);\n",
       "  box-shadow: 2pt 2pt 4pt #999;\n",
       "  /* unfitted */\n",
       "  background: var(--sklearn-color-unfitted-level-0);\n",
       "  border: .5pt solid var(--sklearn-color-unfitted-level-3);\n",
       "}\n",
       "\n",
       ".sk-estimator-doc-link.fitted span {\n",
       "  /* fitted */\n",
       "  background: var(--sklearn-color-fitted-level-0);\n",
       "  border: var(--sklearn-color-fitted-level-3);\n",
       "}\n",
       "\n",
       ".sk-estimator-doc-link:hover span {\n",
       "  display: block;\n",
       "}\n",
       "\n",
       "/* \"?\"-specific style due to the `<a>` HTML tag */\n",
       "\n",
       "#sk-container-id-1 a.estimator_doc_link {\n",
       "  float: right;\n",
       "  font-size: 1rem;\n",
       "  line-height: 1em;\n",
       "  font-family: monospace;\n",
       "  background-color: var(--sklearn-color-background);\n",
       "  border-radius: 1rem;\n",
       "  height: 1rem;\n",
       "  width: 1rem;\n",
       "  text-decoration: none;\n",
       "  /* unfitted */\n",
       "  color: var(--sklearn-color-unfitted-level-1);\n",
       "  border: var(--sklearn-color-unfitted-level-1) 1pt solid;\n",
       "}\n",
       "\n",
       "#sk-container-id-1 a.estimator_doc_link.fitted {\n",
       "  /* fitted */\n",
       "  border: var(--sklearn-color-fitted-level-1) 1pt solid;\n",
       "  color: var(--sklearn-color-fitted-level-1);\n",
       "}\n",
       "\n",
       "/* On hover */\n",
       "#sk-container-id-1 a.estimator_doc_link:hover {\n",
       "  /* unfitted */\n",
       "  background-color: var(--sklearn-color-unfitted-level-3);\n",
       "  color: var(--sklearn-color-background);\n",
       "  text-decoration: none;\n",
       "}\n",
       "\n",
       "#sk-container-id-1 a.estimator_doc_link.fitted:hover {\n",
       "  /* fitted */\n",
       "  background-color: var(--sklearn-color-fitted-level-3);\n",
       "}\n",
       "</style><div id=\"sk-container-id-1\" class=\"sk-top-container\"><div class=\"sk-text-repr-fallback\"><pre>RandomForestRegressor()</pre><b>In a Jupyter environment, please rerun this cell to show the HTML representation or trust the notebook. <br />On GitHub, the HTML representation is unable to render, please try loading this page with nbviewer.org.</b></div><div class=\"sk-container\" hidden><div class=\"sk-item\"><div class=\"sk-estimator fitted sk-toggleable\"><input class=\"sk-toggleable__control sk-hidden--visually\" id=\"sk-estimator-id-1\" type=\"checkbox\" checked><label for=\"sk-estimator-id-1\" class=\"sk-toggleable__label fitted sk-toggleable__label-arrow fitted\">&nbsp;&nbsp;RandomForestRegressor<a class=\"sk-estimator-doc-link fitted\" rel=\"noreferrer\" target=\"_blank\" href=\"https://scikit-learn.org/1.5/modules/generated/sklearn.ensemble.RandomForestRegressor.html\">?<span>Documentation for RandomForestRegressor</span></a><span class=\"sk-estimator-doc-link fitted\">i<span>Fitted</span></span></label><div class=\"sk-toggleable__content fitted\"><pre>RandomForestRegressor()</pre></div> </div></div></div></div>"
      ],
      "text/plain": [
       "RandomForestRegressor()"
      ]
     },
     "execution_count": 23,
     "metadata": {},
     "output_type": "execute_result"
    }
   ],
   "source": [
    "model_rf.fit(x_train, y_train)\n"
   ]
  },
  {
   "cell_type": "code",
   "execution_count": 24,
   "metadata": {
    "id": "mZaMZJttCelr"
   },
   "outputs": [],
   "source": [
    "y_pred= model_rf.predict(x_test)"
   ]
  },
  {
   "cell_type": "code",
   "execution_count": 25,
   "metadata": {
    "id": "WrYa6s1aCelr"
   },
   "outputs": [],
   "source": [
    "score_rf= r2_score(y_pred, y_test)"
   ]
  },
  {
   "cell_type": "code",
   "execution_count": 26,
   "metadata": {
    "colab": {
     "base_uri": "https://localhost:8080/"
    },
    "id": "Am9Kvz0cLICS",
    "outputId": "a5a1008d-f743-4278-d1eb-1f94afed9cb3"
   },
   "outputs": [
    {
     "data": {
      "text/plain": [
       "0.9952773504038115"
      ]
     },
     "execution_count": 26,
     "metadata": {},
     "output_type": "execute_result"
    }
   ],
   "source": [
    "score_rf"
   ]
  },
  {
   "cell_type": "code",
   "execution_count": 27,
   "metadata": {},
   "outputs": [
    {
     "name": "stderr",
     "output_type": "stream",
     "text": [
      "c:\\Users\\Admin\\AppData\\Local\\Programs\\Python\\Python312\\Lib\\site-packages\\sklearn\\base.py:493: UserWarning: X does not have valid feature names, but RandomForestRegressor was fitted with feature names\n",
      "  warnings.warn(\n"
     ]
    },
    {
     "data": {
      "text/plain": [
       "array([3.78271554])"
      ]
     },
     "execution_count": 27,
     "metadata": {},
     "output_type": "execute_result"
    }
   ],
   "source": [
    "model_rf.predict([[3.666667]])"
   ]
  },
  {
   "cell_type": "code",
   "execution_count": 28,
   "metadata": {},
   "outputs": [
    {
     "name": "stderr",
     "output_type": "stream",
     "text": [
      "c:\\Users\\Admin\\AppData\\Local\\Programs\\Python\\Python312\\Lib\\site-packages\\sklearn\\base.py:493: UserWarning: X does not have valid feature names, but RandomForestRegressor was fitted with feature names\n",
      "  warnings.warn(\n"
     ]
    },
    {
     "data": {
      "text/plain": [
       "array([3.91226762])"
      ]
     },
     "execution_count": 28,
     "metadata": {},
     "output_type": "execute_result"
    }
   ],
   "source": [
    "model_rf.predict([[\t3.916667]])"
   ]
  },
  {
   "cell_type": "code",
   "execution_count": 29,
   "metadata": {},
   "outputs": [
    {
     "name": "stderr",
     "output_type": "stream",
     "text": [
      "c:\\Users\\Admin\\AppData\\Local\\Programs\\Python\\Python312\\Lib\\site-packages\\sklearn\\base.py:493: UserWarning: X does not have valid feature names, but RandomForestRegressor was fitted with feature names\n",
      "  warnings.warn(\n"
     ]
    },
    {
     "data": {
      "text/plain": [
       "array([3.88272705])"
      ]
     },
     "execution_count": 29,
     "metadata": {},
     "output_type": "execute_result"
    }
   ],
   "source": [
    "model_rf.predict([[3.750000]])"
   ]
  },
  {
   "cell_type": "code",
   "execution_count": 30,
   "metadata": {
    "colab": {
     "base_uri": "https://localhost:8080/"
    },
    "id": "7G7DdBtfCelr",
    "outputId": "398c77b6-0c50-41d3-a99e-b4367aec1bf9"
   },
   "outputs": [
    {
     "data": {
      "text/plain": [
       "0.9952596923000371"
      ]
     },
     "execution_count": 30,
     "metadata": {},
     "output_type": "execute_result"
    }
   ],
   "source": [
    "# random forest accuracy test\n",
    "from sklearn.metrics import r2_score\n",
    "score_rf=r2_score(y_test,y_pred)\n",
    "score_rf"
   ]
  },
  {
   "cell_type": "code",
   "execution_count": 31,
   "metadata": {},
   "outputs": [
    {
     "name": "stderr",
     "output_type": "stream",
     "text": [
      "c:\\Users\\Admin\\AppData\\Local\\Programs\\Python\\Python312\\Lib\\site-packages\\sklearn\\base.py:493: UserWarning: X does not have valid feature names, but RandomForestRegressor was fitted with feature names\n",
      "  warnings.warn(\n"
     ]
    },
    {
     "data": {
      "text/plain": [
       "array([3.78271554])"
      ]
     },
     "execution_count": 31,
     "metadata": {},
     "output_type": "execute_result"
    }
   ],
   "source": [
    "RandomForestRegressor=model_rf.predict([[3.666667]])\n",
    "RandomForestRegressor"
   ]
  },
  {
   "cell_type": "code",
   "execution_count": 32,
   "metadata": {},
   "outputs": [
    {
     "name": "stderr",
     "output_type": "stream",
     "text": [
      "c:\\Users\\Admin\\AppData\\Local\\Programs\\Python\\Python312\\Lib\\site-packages\\sklearn\\base.py:493: UserWarning: X does not have valid feature names, but RandomForestRegressor was fitted with feature names\n",
      "  warnings.warn(\n"
     ]
    },
    {
     "data": {
      "text/plain": [
       "array([3.91226762])"
      ]
     },
     "execution_count": 32,
     "metadata": {},
     "output_type": "execute_result"
    }
   ],
   "source": [
    "rf1=model_rf.predict([[\t3.916667]])\n",
    "rf1"
   ]
  },
  {
   "cell_type": "code",
   "execution_count": 33,
   "metadata": {},
   "outputs": [
    {
     "name": "stderr",
     "output_type": "stream",
     "text": [
      "c:\\Users\\Admin\\AppData\\Local\\Programs\\Python\\Python312\\Lib\\site-packages\\sklearn\\base.py:493: UserWarning: X does not have valid feature names, but RandomForestRegressor was fitted with feature names\n",
      "  warnings.warn(\n"
     ]
    },
    {
     "data": {
      "text/plain": [
       "array([3.88272705])"
      ]
     },
     "execution_count": 33,
     "metadata": {},
     "output_type": "execute_result"
    }
   ],
   "source": [
    "rf2=model_rf.predict([[3.750000]])\n",
    "rf2"
   ]
  },
  {
   "cell_type": "code",
   "execution_count": 34,
   "metadata": {
    "colab": {
     "base_uri": "https://localhost:8080/"
    },
    "id": "aOGXxhUoCelr",
    "outputId": "eaa2bc6f-e2e6-4fc5-9ced-7c5e0b6c3c30"
   },
   "outputs": [
    {
     "data": {
      "text/plain": [
       "0.9937153133504754"
      ]
     },
     "execution_count": 34,
     "metadata": {},
     "output_type": "execute_result"
    }
   ],
   "source": [
    "\n",
    "model_dt= DecisionTreeRegressor()\n",
    "model_dt.fit(x_train,y_train)\n",
    "y_pred_dt=model_dt.predict(x_test)\n",
    "y_pred_dt\n",
    "# decision tree accuracy test\n",
    "score_dt=r2_score(y_test,y_pred_dt)\n",
    "score_dt"
   ]
  },
  {
   "cell_type": "code",
   "execution_count": 35,
   "metadata": {},
   "outputs": [
    {
     "name": "stderr",
     "output_type": "stream",
     "text": [
      "c:\\Users\\Admin\\AppData\\Local\\Programs\\Python\\Python312\\Lib\\site-packages\\sklearn\\base.py:493: UserWarning: X does not have valid feature names, but DecisionTreeRegressor was fitted with feature names\n",
      "  warnings.warn(\n"
     ]
    },
    {
     "data": {
      "text/plain": [
       "array([3.77777783])"
      ]
     },
     "execution_count": 35,
     "metadata": {},
     "output_type": "execute_result"
    }
   ],
   "source": [
    "DecisionTreeRegressor=model_dt.predict([[3.666667]])\n",
    "DecisionTreeRegressor"
   ]
  },
  {
   "cell_type": "code",
   "execution_count": 36,
   "metadata": {},
   "outputs": [
    {
     "name": "stderr",
     "output_type": "stream",
     "text": [
      "c:\\Users\\Admin\\AppData\\Local\\Programs\\Python\\Python312\\Lib\\site-packages\\sklearn\\base.py:493: UserWarning: X does not have valid feature names, but DecisionTreeRegressor was fitted with feature names\n",
      "  warnings.warn(\n"
     ]
    },
    {
     "data": {
      "text/plain": [
       "array([3.90922629])"
      ]
     },
     "execution_count": 36,
     "metadata": {},
     "output_type": "execute_result"
    }
   ],
   "source": [
    "dt1=model_dt.predict([[\t3.916667]])\n",
    "dt1"
   ]
  },
  {
   "cell_type": "code",
   "execution_count": 37,
   "metadata": {},
   "outputs": [
    {
     "name": "stderr",
     "output_type": "stream",
     "text": [
      "c:\\Users\\Admin\\AppData\\Local\\Programs\\Python\\Python312\\Lib\\site-packages\\sklearn\\base.py:493: UserWarning: X does not have valid feature names, but DecisionTreeRegressor was fitted with feature names\n",
      "  warnings.warn(\n"
     ]
    },
    {
     "data": {
      "text/plain": [
       "array([3.87760412])"
      ]
     },
     "execution_count": 37,
     "metadata": {},
     "output_type": "execute_result"
    }
   ],
   "source": [
    "dt2=model_dt.predict([[3.750000]])\n",
    "dt2"
   ]
  },
  {
   "cell_type": "code",
   "execution_count": 38,
   "metadata": {
    "colab": {
     "base_uri": "https://localhost:8080/"
    },
    "id": "K2eAw7DFCelr",
    "outputId": "d2d9d27c-1c37-458e-e050-cadc74096a8d"
   },
   "outputs": [
    {
     "data": {
      "text/plain": [
       "0.9944817870246718"
      ]
     },
     "execution_count": 38,
     "metadata": {},
     "output_type": "execute_result"
    }
   ],
   "source": [
    "model_et= ExtraTreesRegressor()\n",
    "model_et.fit(x_train,y_train)\n",
    "y_pred_et=model_et.predict(x_test)\n",
    "score_et=r2_score(y_test,y_pred_et)\n",
    "score_et"
   ]
  },
  {
   "cell_type": "code",
   "execution_count": 39,
   "metadata": {},
   "outputs": [
    {
     "name": "stderr",
     "output_type": "stream",
     "text": [
      "c:\\Users\\Admin\\AppData\\Local\\Programs\\Python\\Python312\\Lib\\site-packages\\sklearn\\base.py:493: UserWarning: X does not have valid feature names, but ExtraTreesRegressor was fitted with feature names\n",
      "  warnings.warn(\n"
     ]
    },
    {
     "data": {
      "text/plain": [
       "array([3.77777783])"
      ]
     },
     "execution_count": 39,
     "metadata": {},
     "output_type": "execute_result"
    }
   ],
   "source": [
    "ExtraTreesRegressor=model_et.predict([[3.666667]])\n",
    "ExtraTreesRegressor"
   ]
  },
  {
   "cell_type": "code",
   "execution_count": 40,
   "metadata": {},
   "outputs": [
    {
     "name": "stderr",
     "output_type": "stream",
     "text": [
      "c:\\Users\\Admin\\AppData\\Local\\Programs\\Python\\Python312\\Lib\\site-packages\\sklearn\\base.py:493: UserWarning: X does not have valid feature names, but ExtraTreesRegressor was fitted with feature names\n",
      "  warnings.warn(\n"
     ]
    },
    {
     "data": {
      "text/plain": [
       "array([3.90922629])"
      ]
     },
     "execution_count": 40,
     "metadata": {},
     "output_type": "execute_result"
    }
   ],
   "source": [
    "et1=model_et.predict([[3.916667]])\n",
    "et1"
   ]
  },
  {
   "cell_type": "code",
   "execution_count": 41,
   "metadata": {},
   "outputs": [
    {
     "name": "stderr",
     "output_type": "stream",
     "text": [
      "c:\\Users\\Admin\\AppData\\Local\\Programs\\Python\\Python312\\Lib\\site-packages\\sklearn\\base.py:493: UserWarning: X does not have valid feature names, but ExtraTreesRegressor was fitted with feature names\n",
      "  warnings.warn(\n"
     ]
    },
    {
     "data": {
      "text/plain": [
       "array([3.87760413])"
      ]
     },
     "execution_count": 41,
     "metadata": {},
     "output_type": "execute_result"
    }
   ],
   "source": [
    "et2=model_et.predict([[3.750000]])\n",
    "et2"
   ]
  },
  {
   "cell_type": "code",
   "execution_count": 42,
   "metadata": {
    "colab": {
     "base_uri": "https://localhost:8080/"
    },
    "id": "zuFd5qfOCels",
    "outputId": "ea8822cb-dde1-4e2f-e7c2-3d9d82c2dab4"
   },
   "outputs": [],
   "source": [
    "# model_lr = LinearRegression()\n",
    "# model_lr.fit(x_train,y_train)\n",
    "# y_pred_lr=model_lr.predict(x_test)\n",
    "# # y_pred_lr\n",
    "# # LinearRegression accuracy test\n",
    "# score_lr=model_lr.score(x_test,y_test)"
   ]
  },
  {
   "cell_type": "code",
   "execution_count": 43,
   "metadata": {
    "id": "RIKXIq6dCels"
   },
   "outputs": [],
   "source": [
    "# # Prediciting closing with opening \n",
    "# LinearRegression=model_lr.predict([[3.666667]])\n",
    "# LinearRegression"
   ]
  },
  {
   "cell_type": "code",
   "execution_count": 44,
   "metadata": {},
   "outputs": [],
   "source": [
    "# lr1=model_lr.predict([[\t3.916667]])\n",
    "# lr1"
   ]
  },
  {
   "cell_type": "code",
   "execution_count": 45,
   "metadata": {},
   "outputs": [],
   "source": [
    "# lr2=model_lr.predict([[3.750000]])\n",
    "# lr2"
   ]
  },
  {
   "cell_type": "code",
   "execution_count": 46,
   "metadata": {},
   "outputs": [
    {
     "name": "stdout",
     "output_type": "stream",
     "text": [
      "Prediction Table for all the Categorials Approaches\n",
      "              Model_Name  Accuracy           Prediction1  \\\n",
      "0          Random Forest  0.995260   [3.782715540867605]   \n",
      "1          Decision Tree  0.993715  [3.7777778333333334]   \n",
      "2  Extra Trees Regressor  0.994482  [3.7777778333333414]   \n",
      "\n",
      "            Prediction2           Prediction3  \n",
      "0  [3.9122676203999536]  [3.8827270528804383]  \n",
      "1  [3.9092262857142854]         [3.877604125]  \n",
      "2   [3.909226285714283]  [3.8776041250000035]  \n"
     ]
    }
   ],
   "source": [
    "import pandas as pd\n",
    "\n",
    "data = {\n",
    "    'Model_Name': ['Random Forest', 'Decision Tree', 'Extra Trees Regressor'],\n",
    "    'Accuracy': [score_rf, score_dt, score_et],\n",
    "    'Prediction1': [RandomForestRegressor, DecisionTreeRegressor,ExtraTreesRegressor  ],\n",
    "    'Prediction2': [rf1, dt1, et1],\n",
    "    'Prediction3': [rf2, dt2, et2]\n",
    "}\n",
    "\n",
    "\n",
    "print(\"Prediction Table for all the Categorials Approaches\")\n",
    "comparison = pd.DataFrame(data)\n",
    "print(comparison)\n"
   ]
  },
  {
   "cell_type": "markdown",
   "metadata": {
    "id": "vrc42SVDCels"
   },
   "source": [
    "## DATA VISUALISATION"
   ]
  },
  {
   "cell_type": "code",
   "execution_count": 49,
   "metadata": {
    "id": "dMj92vonCels"
   },
   "outputs": [],
   "source": [
    "import seaborn as sns\n",
    "import matplotlib.pyplot as plt"
   ]
  },
  {
   "cell_type": "code",
   "execution_count": 50,
   "metadata": {
    "id": "9KkeY6aaCels"
   },
   "outputs": [
    {
     "data": {
      "text/plain": [
       "<Axes: ylabel='Close'>"
      ]
     },
     "execution_count": 50,
     "metadata": {},
     "output_type": "execute_result"
    },
    {
     "data": {
      "image/png": "[encoded data removed]",
      "text/plain": [
       "<Figure size 640x480 with 1 Axes>"
      ]
     },
     "metadata": {},
     "output_type": "display_data"
    }
   ],
   "source": [
    "sns.boxplot(y='Close',data=df)"
   ]
  },
  {
   "cell_type": "code",
   "execution_count": 51,
   "metadata": {
    "id": "0C37bRnlCels"
   },
   "outputs": [
    {
     "data": {
      "text/plain": [
       "<Axes: xlabel='Open', ylabel='Close'>"
      ]
     },
     "execution_count": 51,
     "metadata": {},
     "output_type": "execute_result"
    },
    {
     "data": {
      "image/png": "[encoded data removed]",
      "text/plain": [
       "<Figure size 640x480 with 1 Axes>"
      ]
     },
     "metadata": {},
     "output_type": "display_data"
    }
   ],
   "source": [
    "sns.scatterplot(x='Open',y='Close',data=df)"
   ]
  },
  {
   "cell_type": "code",
   "execution_count": 52,
   "metadata": {
    "id": "e7s3OquGCels"
   },
   "outputs": [
    {
     "data": {
      "text/plain": [
       "<Axes: xlabel='Open', ylabel='Close'>"
      ]
     },
     "execution_count": 52,
     "metadata": {},
     "output_type": "execute_result"
    },
    {
     "data": {
      "image/png": "[encoded data removed]",
      "text/plain": [
       "<Figure size 640x480 with 1 Axes>"
      ]
     },
     "metadata": {},
     "output_type": "display_data"
    }
   ],
   "source": [
    "sns.regplot(x='Open',y='Close',data=df)"
   ]
  },
  {
   "cell_type": "code",
   "execution_count": 53,
   "metadata": {
    "id": "B0cIa7SkCels"
   },
   "outputs": [
    {
     "data": {
      "text/plain": [
       "<seaborn.axisgrid.PairGrid at 0x133723dfb60>"
      ]
     },
     "execution_count": 53,
     "metadata": {},
     "output_type": "execute_result"
    },
    {
     "data": {
      "image/png": "[encoded data removed]",
      "text/plain": [
       "<Figure size 1000x1000 with 20 Axes>"
      ]
     },
     "metadata": {},
     "output_type": "display_data"
    }
   ],
   "source": [
    "sns.pairplot(df)"
   ]
  },
  {
   "cell_type": "code",
   "execution_count": 58,
   "metadata": {},
   "outputs": [
    {
     "data": {
      "text/html": [
       "<div>\n",
       "<style scoped>\n",
       "    .dataframe tbody tr th:only-of-type {\n",
       "        vertical-align: middle;\n",
       "    }\n",
       "\n",
       "    .dataframe tbody tr th {\n",
       "        vertical-align: top;\n",
       "    }\n",
       "\n",
       "    .dataframe thead th {\n",
       "        text-align: right;\n",
       "    }\n",
       "</style>\n",
       "<table border=\"1\" class=\"dataframe\">\n",
       "  <thead>\n",
       "    <tr style=\"text-align: right;\">\n",
       "      <th></th>\n",
       "      <th>Date</th>\n",
       "      <th>Open</th>\n",
       "      <th>High</th>\n",
       "      <th>Low</th>\n",
       "      <th>Close</th>\n",
       "    </tr>\n",
       "  </thead>\n",
       "  <tbody>\n",
       "    <tr>\n",
       "      <th>0</th>\n",
       "      <td>15-04-97</td>\n",
       "      <td>3.666667</td>\n",
       "      <td>3.916667</td>\n",
       "      <td>3.416667</td>\n",
       "      <td>3.916667</td>\n",
       "    </tr>\n",
       "    <tr>\n",
       "      <th>1</th>\n",
       "      <td>16-04-97</td>\n",
       "      <td>3.916667</td>\n",
       "      <td>4.166667</td>\n",
       "      <td>3.583333</td>\n",
       "      <td>3.708333</td>\n",
       "    </tr>\n",
       "    <tr>\n",
       "      <th>2</th>\n",
       "      <td>17-04-97</td>\n",
       "      <td>3.750000</td>\n",
       "      <td>4.083333</td>\n",
       "      <td>3.750000</td>\n",
       "      <td>3.833333</td>\n",
       "    </tr>\n",
       "    <tr>\n",
       "      <th>3</th>\n",
       "      <td>18-04-97</td>\n",
       "      <td>3.833333</td>\n",
       "      <td>4.000000</td>\n",
       "      <td>3.833333</td>\n",
       "      <td>4.000000</td>\n",
       "    </tr>\n",
       "    <tr>\n",
       "      <th>4</th>\n",
       "      <td>21-04-97</td>\n",
       "      <td>3.916667</td>\n",
       "      <td>4.000000</td>\n",
       "      <td>3.916667</td>\n",
       "      <td>4.000000</td>\n",
       "    </tr>\n",
       "    <tr>\n",
       "      <th>...</th>\n",
       "      <td>...</td>\n",
       "      <td>...</td>\n",
       "      <td>...</td>\n",
       "      <td>...</td>\n",
       "      <td>...</td>\n",
       "    </tr>\n",
       "    <tr>\n",
       "      <th>2993</th>\n",
       "      <td>09-03-09</td>\n",
       "      <td>6.150000</td>\n",
       "      <td>6.270000</td>\n",
       "      <td>5.870000</td>\n",
       "      <td>6.010000</td>\n",
       "    </tr>\n",
       "    <tr>\n",
       "      <th>2994</th>\n",
       "      <td>10-03-09</td>\n",
       "      <td>6.170000</td>\n",
       "      <td>6.870000</td>\n",
       "      <td>5.900000</td>\n",
       "      <td>6.850000</td>\n",
       "    </tr>\n",
       "    <tr>\n",
       "      <th>2995</th>\n",
       "      <td>11-03-09</td>\n",
       "      <td>6.420000</td>\n",
       "      <td>6.670000</td>\n",
       "      <td>6.050000</td>\n",
       "      <td>6.410000</td>\n",
       "    </tr>\n",
       "    <tr>\n",
       "      <th>2996</th>\n",
       "      <td>12-03-09</td>\n",
       "      <td>6.400000</td>\n",
       "      <td>7.350000</td>\n",
       "      <td>6.310000</td>\n",
       "      <td>7.100000</td>\n",
       "    </tr>\n",
       "    <tr>\n",
       "      <th>2997</th>\n",
       "      <td>13-03-09</td>\n",
       "      <td>7.130000</td>\n",
       "      <td>7.430000</td>\n",
       "      <td>6.920000</td>\n",
       "      <td>7.360000</td>\n",
       "    </tr>\n",
       "  </tbody>\n",
       "</table>\n",
       "<p>2998 rows × 5 columns</p>\n",
       "</div>"
      ],
      "text/plain": [
       "          Date      Open      High       Low     Close\n",
       "0     15-04-97  3.666667  3.916667  3.416667  3.916667\n",
       "1     16-04-97  3.916667  4.166667  3.583333  3.708333\n",
       "2     17-04-97  3.750000  4.083333  3.750000  3.833333\n",
       "3     18-04-97  3.833333  4.000000  3.833333  4.000000\n",
       "4     21-04-97  3.916667  4.000000  3.916667  4.000000\n",
       "...        ...       ...       ...       ...       ...\n",
       "2993  09-03-09  6.150000  6.270000  5.870000  6.010000\n",
       "2994  10-03-09  6.170000  6.870000  5.900000  6.850000\n",
       "2995  11-03-09  6.420000  6.670000  6.050000  6.410000\n",
       "2996  12-03-09  6.400000  7.350000  6.310000  7.100000\n",
       "2997  13-03-09  7.130000  7.430000  6.920000  7.360000\n",
       "\n",
       "[2998 rows x 5 columns]"
      ]
     },
     "execution_count": 58,
     "metadata": {},
     "output_type": "execute_result"
    }
   ],
   "source": [
    "df"
   ]
  },
  {
   "cell_type": "code",
   "execution_count": 59,
   "metadata": {
    "id": "K33k0-0HCels"
   },
   "outputs": [
    {
     "data": {
      "image/png": "[encoded data removed]",
      "text/plain": [
       "<Figure size 1000x800 with 2 Axes>"
      ]
     },
     "metadata": {},
     "output_type": "display_data"
    }
   ],
   "source": [
    "# Calculate the correlation matrix\n",
    "corr = df[['Open', 'High', 'Low', 'Close']].corr()\n",
    "\n",
    "# heatmap\n",
    "plt.figure(figsize=(10, 8))\n",
    "sns.heatmap(corr, annot=True, cmap='coolwarm', fmt=\".2f\")\n",
    "plt.title('Correlation Heatmap')\n",
    "plt.show()"
   ]
  },
  {
   "cell_type": "code",
   "execution_count": null,
   "metadata": {},
   "outputs": [
    {
     "data": {
      "image/png": "[encoded data removed]",
      "text/plain": [
       "<Figure size 1000x600 with 1 Axes>"
      ]
     },
     "metadata": {},
     "output_type": "display_data"
    }
   ],
   "source": [
    "# histogram \n",
    "plt.figure(figsize=(10, 6))\n",
    "plt.hist(df['Close'], bins=30, color='blue', edgecolor='black')\n",
    "plt.title('Histogram of Close Prices')\n",
    "plt.xlabel('Close Price')\n",
    "plt.ylabel('Frequency')\n",
    "plt.show()"
   ]
  },
  {
   "cell_type": "code",
   "execution_count": null,
   "metadata": {},
   "outputs": [],
   "source": []
  }
 ],
 "metadata": {
  "colab": {
   "provenance": []
  },
  "kernelspec": {
   "display_name": "Python 3",
   "language": "python",
   "name": "python3"
  },
  "language_info": {
   "codemirror_mode": {
    "name": "ipython",
    "version": 3
   },
   "file_extension": ".py",
   "mimetype": "text/x-python",
   "name": "python",
   "nbconvert_exporter": "python",
   "pygments_lexer": "ipython3",
   "version": "3.12.5"
  }
 },
 "nbformat": 4,
 "nbformat_minor": 0
}
